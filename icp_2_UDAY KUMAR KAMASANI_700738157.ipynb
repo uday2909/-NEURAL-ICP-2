{
 "cells": [
  {
   "cell_type": "raw",
   "id": "2c24baf9",
   "metadata": {},
   "source": [
    "1. Write a program that takes two strings from the user: first_name, last_name. Pass these variables to\n",
    "fullname function that should return the (full name).\n",
    "For example:\n",
    "        First_name = “your first name”, last_name = “your last name”\n",
    "        Full_name = “your full name”\n",
    "\n"
   ]
  },
  {
   "cell_type": "code",
   "execution_count": 2,
   "id": "bbce683c",
   "metadata": {},
   "outputs": [
    {
     "name": "stdout",
     "output_type": "stream",
     "text": [
      "enter first name :uday\n",
      "enter last name : kamaasni\n",
      "Full name :  uday kamaasni\n"
     ]
    }
   ],
   "source": [
    "def getFullName(firstName,lastName):\n",
    "    return firstName + ' ' + lastName\n",
    "\n",
    "\n",
    "\n",
    "first_name = input(\"enter first name :\")\n",
    "last_name = input(\"enter last name : \")\n",
    "print(\"Full name : \",getFullName(first_name,last_name))\n"
   ]
  },
  {
   "cell_type": "raw",
   "id": "3e51b9d1",
   "metadata": {},
   "source": [
    "1.1 Write function named “string_alternative” that returns every other char in the full_name string.\n",
    "    Str = “Good evening”\n",
    "    Output: Go vnn"
   ]
  },
  {
   "cell_type": "code",
   "execution_count": 6,
   "id": "4b879c77",
   "metadata": {},
   "outputs": [
    {
     "name": "stdout",
     "output_type": "stream",
     "text": [
      "enter full string : good evening\n",
      " go vnn\n"
     ]
    }
   ],
   "source": [
    "def string_alternative(s):\n",
    "    final_str = ''\n",
    "    indv_words = s.split()\n",
    "    start_index = 0\n",
    "    for i in range(len(indv_words)):\n",
    "        final_str = final_str + ' ' + indv_words[i][start_index::2]\n",
    "        start_index = 1\n",
    "    return final_str\n",
    "\n",
    "str_ = input(\"enter full string : \")\n",
    "print(string_alternative(str_))\n",
    "        \n",
    "    \n",
    "    "
   ]
  },
  {
   "cell_type": "raw",
   "id": "bd2511ff",
   "metadata": {},
   "source": [
    "3. Write a program, which reads heights (inches.) of customers into a list and convert these\n",
    "heights to centimeters in a separate list using:\n",
    "    1) Nested Interactive loop.\n",
    "    2) List comprehensions"
   ]
  },
  {
   "cell_type": "code",
   "execution_count": 16,
   "id": "6353cebb",
   "metadata": {},
   "outputs": [
    {
     "name": "stdout",
     "output_type": "stream",
     "text": [
      "Enter the no of customers: 1\n",
      "Enter height in inches for customer 1: 150\n",
      "[381.0]\n",
      "Enter the number of customers: 2\n",
      "Enter height in inches for customer 1: 150\n",
      "Enter height in inches for customer 2: 230\n",
      "[381.0, 584.2]\n"
     ]
    }
   ],
   "source": [
    "def inches_to_cm(inches):\n",
    "    return inches * 2.54\n",
    "\n",
    "\n",
    "no_customers = int(input(\"Enter the no of customers: \"))\n",
    "heights_inches = []\n",
    "\n",
    "for i in range(no_customers):\n",
    "    height = float(input(f\"Enter height in inches for customer {i+1}: \"))\n",
    "    heights_inches.append(height)\n",
    "    \n",
    "height_to_cm = []\n",
    "for height_inch in heights_inches:\n",
    "    height_cm = inches_to_cm(height_inch)\n",
    "    height_to_cm.append(height_cm)\n",
    "\n",
    "print(height_to_cm)\n",
    "\n",
    "# usning list comprehension \n",
    "\n",
    "num_customers_l = int(input(\"Enter the number of customers: \"))\n",
    "heights_inches_l = [float(input(f\"Enter height in inches for customer {i+1}: \")) for i in range(num_customers_l)]\n",
    "heights_cm = [inches_to_cm(height_inch) for height_inch in heights_inches_l]\n",
    "print(heights_cm)"
   ]
  },
  {
   "cell_type": "raw",
   "id": "81aadc7b",
   "metadata": {},
   "source": [
    "2. Write a python program to find the wordcount in a file (input.txt) for each line and then print the output.\n",
    "Finally store the output in output.txt file. "
   ]
  },
  {
   "cell_type": "code",
   "execution_count": 19,
   "id": "2f715ba9",
   "metadata": {},
   "outputs": [],
   "source": [
    "\n",
    "input_filename = \"input.txt\"\n",
    "output_filename = \"output.txt\"\n",
    "\n",
    "try:\n",
    "    with open(input_filename, 'r') as input_file:\n",
    "        lines = input_file.readlines()\n",
    "        \n",
    "        word_counts = {}\n",
    "        for line in lines:\n",
    "            line = line.strip()  # Remove leading/trailing whitespace\n",
    "            words = line.split()\n",
    "            for i in range(len(words)):\n",
    "                if words[i] in word_counts:\n",
    "                    word_counts[words[i]] += 1\n",
    "                else:\n",
    "                    word_counts[words[i]] = 1\n",
    "            \n",
    "        with open(output_filename, 'w') as output_file:\n",
    "            for key in word_counts:\n",
    "                output_file.write(f\"{key}\\t : {word_counts[key]}\\n\")\n",
    "\n",
    "except FileNotFoundError:\n",
    "    print(f\"File '{input_filename}' not found.\")\n",
    "except Exception as e:\n",
    "    print(f\"An error occurred: {e}\")"
   ]
  },
  {
   "cell_type": "code",
   "execution_count": null,
   "id": "2eeb8369",
   "metadata": {},
   "outputs": [],
   "source": []
  }
 ],
 "metadata": {
  "kernelspec": {
   "display_name": "Python 3 (ipykernel)",
   "language": "python",
   "name": "python3"
  },
  "language_info": {
   "codemirror_mode": {
    "name": "ipython",
    "version": 3
   },
   "file_extension": ".py",
   "mimetype": "text/x-python",
   "name": "python",
   "nbconvert_exporter": "python",
   "pygments_lexer": "ipython3",
   "version": "3.10.9"
  }
 },
 "nbformat": 4,
 "nbformat_minor": 5
}
